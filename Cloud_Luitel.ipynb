{
 "cells": [
  {
   "cell_type": "code",
   "execution_count": 34,
   "metadata": {},
   "outputs": [],
   "source": [
    "import boto3"
   ]
  },
  {
   "cell_type": "code",
   "execution_count": 35,
   "metadata": {},
   "outputs": [],
   "source": [
    "s3 = boto3.resource('s3',\n",
    " aws_access_key_id='',\n",
    " aws_secret_access_key=''\n",
    ")"
   ]
  },
  {
   "cell_type": "code",
   "execution_count": 53,
   "metadata": {},
   "outputs": [
    {
     "data": {
      "text/plain": [
       "s3.Bucket(name='prayush-luitel-1')"
      ]
     },
     "execution_count": 53,
     "metadata": {},
     "output_type": "execute_result"
    }
   ],
   "source": [
    "s3.create_bucket(Bucket='prayush-luitel-1', CreateBucketConfiguration={\n",
    " 'LocationConstraint': 'us-east-2'})\n"
   ]
  },
  {
   "cell_type": "code",
   "execution_count": 54,
   "metadata": {},
   "outputs": [],
   "source": [
    "bucket = s3.Bucket('prayush-luitel-1')"
   ]
  },
  {
   "cell_type": "code",
   "execution_count": 55,
   "metadata": {},
   "outputs": [
    {
     "data": {
      "text/plain": [
       "{'ResponseMetadata': {'RequestId': '',\n",
       "  'HostId': '5RN1UCcaM5bvkPsa87hBJE+l73qhNfHlZjf5JVk2Xp/0ZHa6Wi17beE1SUrEJQ3Pr6GkpGnrLCg=',\n",
       "  'HTTPStatusCode': 200,\n",
       "  'HTTPHeaders': {'x-amz-id-2': '5RN1UCcaM5bvkPsa87hBJE+l73qhNfHlZjf5JVk2Xp/0ZHa6Wi17beE1SUrEJQ3Pr6GkpGnrLCg=',\n",
       "   'x-amz-request-id': '0AMVR4NZ9YK6C5WV',\n",
       "   'date': 'Mon, 08 Mar 2021 21:46:20 GMT',\n",
       "   'content-length': '0',\n",
       "   'server': 'AmazonS3'},\n",
       "  'RetryAttempts': 1}}"
      ]
     },
     "execution_count": 55,
     "metadata": {},
     "output_type": "execute_result"
    }
   ],
   "source": [
    "bucket.Acl().put(ACL='public-read')"
   ]
  },
  {
   "cell_type": "code",
   "execution_count": 136,
   "metadata": {},
   "outputs": [],
   "source": [
    "body = open('C:\\\\Users\\\\luite\\\\Desktop\\\\Cloud_HW\\\\Cloud_HW\\\\exp1.csv','rb')"
   ]
  },
  {
   "cell_type": "code",
   "execution_count": 137,
   "metadata": {},
   "outputs": [],
   "source": [
    "o = s3.Object('prayush-luitel-1', 'exp1.csv').put(Body=body )"
   ]
  },
  {
   "cell_type": "code",
   "execution_count": 138,
   "metadata": {},
   "outputs": [
    {
     "data": {
      "text/plain": [
       "{'ResponseMetadata': {'RequestId': '',\n",
       "  'HostId': '',\n",
       "  'HTTPStatusCode': 200,\n",
       "  'HTTPHeaders': {'x-amz-id-2': 'KTCS5WMPe8ZJoFI0CEG+TTvzoSIGxYSEPHo2+m2knOROi5DpIAKj0uyE4bc3JvKD2v12Lsuyajk=',\n",
       "   'x-amz-request-id': 'STENAABWF8FFJQ7A',\n",
       "   'date': 'Tue, 09 Mar 2021 04:35:32 GMT',\n",
       "   'content-length': '0',\n",
       "   'server': 'AmazonS3'},\n",
       "  'RetryAttempts': 0}}"
      ]
     },
     "execution_count": 138,
     "metadata": {},
     "output_type": "execute_result"
    }
   ],
   "source": [
    "s3.Object('prayush-luitel-1', 'exp1.csv').Acl().put(ACL='public-read')"
   ]
  },
  {
   "cell_type": "code",
   "execution_count": 171,
   "metadata": {},
   "outputs": [],
   "source": [
    "dyndb = boto3.resource('dynamodb',\n",
    " region_name='us-east-2',\n",
    " aws_access_key_id='Q',\n",
    " aws_secret_access_key=''\n",
    ")"
   ]
  },
  {
   "cell_type": "code",
   "execution_count": 175,
   "metadata": {},
   "outputs": [],
   "source": [
    "try:\n",
    " table = dyndb.create_table(\n",
    " TableName='Prayush_Table',\n",
    " KeySchema=[\n",
    " {\n",
    " 'AttributeName': 'PartitionKey',\n",
    " 'KeyType': 'HASH'\n",
    " },\n",
    " {\n",
    " 'AttributeName': 'RowKey',\n",
    " 'KeyType': 'RANGE'\n",
    " }\n",
    " ],\n",
    " AttributeDefinitions=[\n",
    " {\n",
    " 'AttributeName': 'PartitionKey',\n",
    " 'AttributeType': 'S'\n",
    " },\n",
    " {\n",
    " 'AttributeName': 'RowKey',\n",
    " 'AttributeType': 'S'\n",
    " },\n",
    " ],\n",
    " ProvisionedThroughput={\n",
    " 'ReadCapacityUnits': 5,\n",
    " 'WriteCapacityUnits': 5\n",
    " }\n",
    " )\n",
    "except:\n",
    " #if there is an exception, the table may already exist. if so...\n",
    " table = dyndb.Table(\"Prayush_Table\")\n"
   ]
  },
  {
   "cell_type": "code",
   "execution_count": 176,
   "metadata": {},
   "outputs": [],
   "source": [
    "table.meta.client.get_waiter('table_exists').wait(TableName='Prayush_Table')"
   ]
  },
  {
   "cell_type": "code",
   "execution_count": 177,
   "metadata": {},
   "outputs": [
    {
     "name": "stdout",
     "output_type": "stream",
     "text": [
      "0\n"
     ]
    }
   ],
   "source": [
    "print(table.item_count)"
   ]
  },
  {
   "cell_type": "code",
   "execution_count": 178,
   "metadata": {},
   "outputs": [],
   "source": [
    "import csv"
   ]
  },
  {
   "cell_type": "code",
   "execution_count": 179,
   "metadata": {},
   "outputs": [],
   "source": [
    "path = 'C:\\\\Users\\\\luite\\\\Desktop\\\\Cloud_HW\\\\Cloud_HW\\\\experiments.csv'"
   ]
  },
  {
   "cell_type": "code",
   "execution_count": 183,
   "metadata": {},
   "outputs": [
    {
     "name": "stdout",
     "output_type": "stream",
     "text": [
      "['experiment1', 'data1', '2/13/2021', 'Words..', 'exp1.csv']\n",
      "['experiment2', 'data2', '2/20/2021', 'second experiment', 'exp2.csv']\n"
     ]
    }
   ],
   "source": [
    "with open(path, 'r') as csvfile:\n",
    " csvf = csv.reader(csvfile, delimiter=',', quotechar='|')\n",
    " for item in csvf:\n",
    "     print (item)\n",
    "     body = open('C:\\\\Users\\\\luite\\\\Desktop\\\\Cloud_HW\\\\Cloud_HW\\\\'+item[4], 'rb')\n",
    "     s3.Object('prayush-luitel-1', item[4]).put(Body=body)\n",
    "     md = s3.Object('prayush-luitel-1', item[4]).Acl().put(ACL='public-read')\n",
    "\n",
    "     url = \" https://s3-us-east-2.amazonaws.com/prayush-luitel-1/\"+item[4]\n",
    "     metadata_item = {'PartitionKey': item[0], 'RowKey': item[1],\n",
    "     'description' : item[3], 'date' : item[2], 'url':url}\n",
    "     table.put_item(Item=metadata_item)"
   ]
  },
  {
   "cell_type": "code",
   "execution_count": 185,
   "metadata": {},
   "outputs": [
    {
     "name": "stdout",
     "output_type": "stream",
     "text": [
      "{'PartitionKey': 'experiment1', 'RowKey': 'data1', 'date': '2/13/2021', 'description': 'Words..', 'url': ' https://s3-us-east-2.amazonaws.com/prayush-luitel-1/exp1.csv'}\n"
     ]
    }
   ],
   "source": [
    "response1 = table.get_item(\n",
    " Key={\n",
    " 'PartitionKey': 'experiment1',\n",
    " 'RowKey': 'data1'\n",
    " }\n",
    ")\n",
    "item = response1\n",
    "print(item['Item'])"
   ]
  },
  {
   "cell_type": "code",
   "execution_count": 189,
   "metadata": {},
   "outputs": [
    {
     "data": {
      "text/plain": [
       "{'Item': {'PartitionKey': 'experiment1',\n",
       "  'RowKey': 'data1',\n",
       "  'date': '2/13/2021',\n",
       "  'description': 'Words..',\n",
       "  'url': ' https://s3-us-east-2.amazonaws.com/prayush-luitel-1/exp1.csv'},\n",
       " 'ResponseMetadata': {'RequestId': 'OAA0VQ6P8C3MGN0GM2DPT4C2OVVV4KQNSO5AEMVJF66Q9ASUAAJG',\n",
       "  'HTTPStatusCode': 200,\n",
       "  'HTTPHeaders': {'server': 'Server',\n",
       "   'date': 'Tue, 09 Mar 2021 05:03:42 GMT',\n",
       "   'content-type': 'application/x-amz-json-1.0',\n",
       "   'content-length': '199',\n",
       "   'connection': 'keep-alive',\n",
       "   'x-amzn-requestid': 'OAA0VQ6P8C3MGN0GM2DPT4C2OVVV4KQNSO5AEMVJF66Q9ASUAAJG',\n",
       "   'x-amz-crc32': '2226355678'},\n",
       "  'RetryAttempts': 0}}"
      ]
     },
     "execution_count": 189,
     "metadata": {},
     "output_type": "execute_result"
    }
   ],
   "source": [
    "response1"
   ]
  },
  {
   "cell_type": "code",
   "execution_count": 188,
   "metadata": {},
   "outputs": [
    {
     "name": "stdout",
     "output_type": "stream",
     "text": [
      "{'PartitionKey': 'experiment2', 'RowKey': 'data2', 'date': '2/20/2021', 'description': 'second experiment', 'url': ' https://s3-us-east-2.amazonaws.com/prayush-luitel-1/exp2.csv'}\n"
     ]
    }
   ],
   "source": [
    "response2 = table.get_item(\n",
    " Key={\n",
    " 'PartitionKey': 'experiment2',\n",
    " 'RowKey': 'data2'\n",
    " }\n",
    ")\n",
    "item = response2\n",
    "print(item['Item'])"
   ]
  },
  {
   "cell_type": "code",
   "execution_count": 190,
   "metadata": {},
   "outputs": [
    {
     "data": {
      "text/plain": [
       "{'Item': {'PartitionKey': 'experiment2',\n",
       "  'RowKey': 'data2',\n",
       "  'date': '2/20/2021',\n",
       "  'description': 'second experiment',\n",
       "  'url': ' https://s3-us-east-2.amazonaws.com/prayush-luitel-1/exp2.csv'},\n",
       " 'ResponseMetadata': {'RequestId': 'P2FUMHN2EC9NT3D73QKJ7MDDM7VV4KQNSO5AEMVJF66Q9ASUAAJG',\n",
       "  'HTTPStatusCode': 200,\n",
       "  'HTTPHeaders': {'server': 'Server',\n",
       "   'date': 'Tue, 09 Mar 2021 05:04:19 GMT',\n",
       "   'content-type': 'application/x-amz-json-1.0',\n",
       "   'content-length': '209',\n",
       "   'connection': 'keep-alive',\n",
       "   'x-amzn-requestid': 'P2FUMHN2EC9NT3D73QKJ7MDDM7VV4KQNSO5AEMVJF66Q9ASUAAJG',\n",
       "   'x-amz-crc32': '1621330087'},\n",
       "  'RetryAttempts': 0}}"
      ]
     },
     "execution_count": 190,
     "metadata": {},
     "output_type": "execute_result"
    }
   ],
   "source": [
    "response2"
   ]
  }
 ],
 "metadata": {
  "kernelspec": {
   "display_name": "Python 3",
   "language": "python",
   "name": "python3"
  },
  "language_info": {
   "codemirror_mode": {
    "name": "ipython",
    "version": 3
   },
   "file_extension": ".py",
   "mimetype": "text/x-python",
   "name": "python",
   "nbconvert_exporter": "python",
   "pygments_lexer": "ipython3",
   "version": "3.8.5"
  }
 },
 "nbformat": 4,
 "nbformat_minor": 4
}
